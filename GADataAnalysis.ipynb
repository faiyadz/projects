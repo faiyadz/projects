{
 "cells": [
  {
   "cell_type": "markdown",
   "metadata": {},
   "source": [
    "Google Merch Store - Analysis\n",
    "\n",
    "This exercise contains example data from the Google Merchandise Store via the Google Analytics Demo Account, as well as some fabricated cost price data for practice purposes.\n",
    "\n",
    "## Overview\n",
    "### Datasets\n",
    "- Transaction data from 2017-04 to 2017-06 available in multiple files split by month (transactions_*.csv)\n",
    "    - Each purchase on the Google Merchandise Store is logged as a transaction with a unique Transaction ID.\n",
    "    - Each transaction can be comprised of one or more Product SKUs, with varying quantities.\n",
    "    - Avg. Price refers to the price of each product unit that was sold within that transaction.\n",
    "    \n",
    "    \n",
    "- Cost price data from 2017-04 to 2017-06 available in a single file (cost_price_2017-04_2017-06.csv)\n",
    "    - The accounting department provides a monthly record of the average cost price of a product unit per SKU.\n",
    "\n",
    "### Goals\n",
    "- Generate Top 20 Product Categories with the largest profit margin\n",
    "- Generate Top 20 SKUs with the largest profit margin\n",
    
    "### Actions Needed\n",
    "- Datatype conversion whenever appropriate\n",
    "- Rename original columns to a standardized format\n",
    "    - **Date** => date\n",
    "    - **Transaction ID** => transaction_id\n",
    "    - **Product SKU** => sku\n",
    "    - **Product** => product_name\n",
    "    - **Product Category (Enhanced Ecommerce)** => product_category\n",
    "    - **Quantity** => quantity\n",
    "    - **Avg. Price** => price\n"
   ]
  },
  {
   "cell_type": "markdown",
   "metadata": {},
   "source": [
    "### Importing and configuring libraries"
   ]
  },
  {
   "cell_type": "code",
   "execution_count": 26,
   "metadata": {},
   "outputs": [],
   "source": [
    "import os\n",
    "from datetime import datetime\n",
    "import pandas as pd\n",
    "\n",
    "\n",
    "# set pandas options to display all columns, or else columns would be displayed on multiple lines\n",
    "pd.set_option('display.expand_frame_repr', False)\n"
   ]
  },
  {
   "cell_type": "markdown",
   "metadata": {},
   "source": [
    "### Setting up paths and folders"
   ]
  },
  {
   "cell_type": "code",
   "execution_count": 27,
   "metadata": {},
   "outputs": [],
   "source": [
    "# identify the current directory\n",
    "CURRENT_DIR = os.getcwd()\n",
    "\n",
    "# define the path of the directory where data would be read from, which is in {CURRENT_DIR}/data\n",
    "READ_DIR = os.path.join(CURRENT_DIR, 'data')\n",
    "\n",
    "# define the path of the directory where any potential files would be written to, which is in {CURRENT_DIR}/output\n",
    "WRITE_DIR = os.path.join(CURRENT_DIR, 'output')\n",
    "\n",
    "# checks if WRITE_DIR exists. create if it doesn't already exist\n",
    "if not os.path.exists(WRITE_DIR):\n",
    "    os.mkdir(WRITE_DIR)"
   ]
  },
  {
   "cell_type": "markdown",
   "metadata": {},
   "source": [
    "### Define helper functions"
   ]
  },
  {
   "cell_type": "code",
   "execution_count": 28,
   "metadata": {},
   "outputs": [],
   "source": [
    "# convert text string (\"$x,xxx.xx\") to float\n",
    "def currency_to_float(input_value):\n",
    "    return float(input_value.lstrip('$').replace(',', ''))\n",
    "\n",
    "# convert datetime object to \"<year>-<month>\"\n",
    "def datetime_to_year_month(input_value):\n",
    "    return input_value.strftime('%Y-%m')\n",
    "\n",
    "def date_parser(date_string):\n",
    "    return datetime.strptime(date_string, '%Y%m%d')"
   ]
  },
  {
   "cell_type": "markdown",
   "metadata": {},
   "source": [
    "### Define and read files\n",
    "\n",
    "Data is split into multiple files. The analysis should be done across all data in the separate files."
   ]
  },
  {
   "cell_type": "code",
   "execution_count": 29,
   "metadata": {},
   "outputs": [
    {
     "name": "stdout",
     "output_type": "stream",
     "text": [
      "           Date  Transaction ID     Product SKU                                            Product Product Category (Enhanced Ecommerce)  Quantity Avg. Price\n",
      "0    2017-04-05           24860  GGOEGGOA017399                                           Maze Pen                                Office      1000      $0.99\n",
      "1    2017-04-05           24860  GGOEYFKQ020699                              YouTube Custom Decals                                Office      1000      $1.99\n",
      "2    2017-04-05           24863  GGOEGHGH019699                                  Google Sunglasses                             Lifestyle       750      $3.50\n",
      "3    2017-04-05           24863  GGOEGOCB017499                                Leatherette Journal                                Office       600     $10.99\n",
      "4    2017-04-05           24860  GGOEGHPJ080110                                 Google 5-Panel Cap                              Headgear       500     $18.99\n",
      "...         ...             ...             ...                                                ...                                   ...       ...        ...\n",
      "4432 2017-04-30           26837  GGOEGHPA002910                                 Google Trucker Hat                              Headgear         1     $17.59\n",
      "4433 2017-04-30           26837  GGOEGHPB071610                                   Google Twill Cap                               Apparel         1      $8.79\n",
      "4434 2017-04-30           26837  GGOEWFKA083199                    Waze Mood Original Window Decal                                  Waze         1      $1.59\n",
      "4435 2017-04-30           26837  GGOEWFKA083299                       Waze Mood Ninja Window Decal                                  Waze         1      $1.59\n",
      "4436 2017-04-30           26838  GGOENEBJ079499  Nestå¨ Learning Thermostat 3rd Gen-USA - Stain...                              Nest-USA         1    $149.00\n",
      "\n",
      "[4437 rows x 7 columns]\n"
     ]
    }
   ],
   "source": [
    "# define variable to store the collated Dataframe\n",
    "transactions_df = None\n",
    "\n",
    "# list files in folder\n",
    "file_list = os.listdir(READ_DIR)\n",
    "\n",
    "for file_name in file_list:\n",
    "    if file_name.startswith('transactions_') and file_name.endswith('.csv'):\n",
    "        read_path = os.path.join(READ_DIR, file_name)\n",
    "\n",
    "        df = pd.read_csv(\n",
    "            read_path,\n",
    "            parse_dates=['Date'],\n",
    "            date_parser=date_parser,\n",
    "            thousands=','\n",
    "        )\n",
    "\n",
    "        if transactions_df is None:\n",
    "            transactions_df = df\n",
    "        else:\n",
    "            transactions_df = transactions_df.append(df, ignore_index=True)\n",
    "\n",
    "print(df)"
   ]
  },
  {
   "cell_type": "markdown",
   "metadata": {},
   "source": [
    "### Rename Columns\n",
    "\n",
    "- **Date** => date\n",
    "- **Transaction ID** => transaction_id\n",
    "- **Product SKU** => sku\n",
    "- **Product** => product_name\n",
    "- **Product Category (Enhanced Ecommerce)** => product_category\n",
    "- **Quantity** => quantity\n",
    "- **Avg. Price** => price"
   ]
  },
  {
   "cell_type": "code",
   "execution_count": 30,
   "metadata": {},
   "outputs": [
    {
     "name": "stdout",
     "output_type": "stream",
     "text": [
      "            date  transaction_id             sku                                       product_name product_category  quantity    price\n",
      "0     2017-06-21           30876  GGOEGOAQ012899                            Ballpoint LED Light Pen           Office      1000    $2.50\n",
      "1     2017-06-05           29657  GGOEGGOA017399                                           Maze Pen           Office       825    $0.79\n",
      "2     2017-06-08           29898  GGOEGGOA017399                                           Maze Pen           Office       825    $0.79\n",
      "3     2017-06-12           30174  GGOEGOAC021799                                 Ballpoint Pen Blue           Office       500    $0.99\n",
      "4     2017-06-14           30377  GGOEGFKA022299                               Keyboard DOT Sticker           Office       500    $1.50\n",
      "...          ...             ...             ...                                                ...              ...       ...      ...\n",
      "13872 2017-04-30           26837  GGOEGHPA002910                                 Google Trucker Hat         Headgear         1   $17.59\n",
      "13873 2017-04-30           26837  GGOEGHPB071610                                   Google Twill Cap          Apparel         1    $8.79\n",
      "13874 2017-04-30           26837  GGOEWFKA083199                    Waze Mood Original Window Decal             Waze         1    $1.59\n",
      "13875 2017-04-30           26837  GGOEWFKA083299                       Waze Mood Ninja Window Decal             Waze         1    $1.59\n",
      "13876 2017-04-30           26838  GGOENEBJ079499  Nestå¨ Learning Thermostat 3rd Gen-USA - Stain...         Nest-USA         1  $149.00\n",
      "\n",
      "[13877 rows x 7 columns]\n"
     ]
    }
   ],
   "source": [
    "renaming_map = {\n",
    "    'Date': 'date',\n",
    "    'Transaction ID': 'transaction_id',\n",
    "    'Product SKU': 'sku',\n",
    "    'Product': 'product_name',\n",
    "    'Product Category (Enhanced Ecommerce)': 'product_category',\n",
    "    'Quantity': 'quantity',\n",
    "    'Avg. Price': 'price'\n",
    "}\n",
    "\n",
    "transactions_df = transactions_df.rename(columns=renaming_map)\n",
    "print(transactions_df)"
   ]
  },
  {
   "cell_type": "markdown",
   "metadata": {},
   "source": [
    "### Modify data\n",
    "- Convert **price** to float\n",
    "- Add new column **year_month** derived from **date**"
   ]
  },
  {
   "cell_type": "code",
   "execution_count": 31,
   "metadata": {},
   "outputs": [],
   "source": [
    "# convert price string to float\n",
    "transactions_df['price'] = transactions_df['price'].apply(currency_to_float)\n",
    "\n",
    "# add new column with year_month\n",
    "transactions_df['year_month'] = transactions_df['date'].apply(datetime_to_year_month)"
   ]
  },
  {
   "cell_type": "markdown",
   "metadata": {},
   "source": [
    "### Import cost data"
   ]
  },
  {
   "cell_type": "code",
   "execution_count": 32,
   "metadata": {},
   "outputs": [
    {
     "name": "stdout",
     "output_type": "stream",
     "text": [
      "     year_month             sku  cost_price\n",
      "0       2017-04  GGOEAAAB034813        6.40\n",
      "1       2017-04  GGOEAAAB034814        6.80\n",
      "2       2017-04  GGOEAAAB034815        7.54\n",
      "3       2017-04  GGOEAAAB034816        6.40\n",
      "4       2017-04  GGOEAAAB034817       13.81\n",
      "...         ...             ...         ...\n",
      "2617    2017-06  GGOEYOCR077399        9.10\n",
      "2618    2017-06  GGOEYOCR077799        5.04\n",
      "2619    2017-06  GGOEYOCR078099        2.48\n",
      "2620    2017-06  GGOEYOLR018699        3.79\n",
      "2621    2017-06  GGOEYOLR080599        2.00\n",
      "\n",
      "[2622 rows x 3 columns]\n"
     ]
    }
   ],
   "source": [
    "cost_path = os.path.join(READ_DIR, 'cost_price_2017-04_2017-06.csv')\n",
    "cost_df = pd.read_csv(cost_path)\n",
    "print(cost_df)"
   ]
  },
  {
   "cell_type": "markdown",
   "metadata": {},
   "source": [
    "### Match cost price data for each sku for specific months"
   ]
  },
  {
   "cell_type": "code",
   "execution_count": 33,
   "metadata": {},
   "outputs": [
    {
     "name": "stdout",
     "output_type": "stream",
     "text": [
      "            date  transaction_id             sku                                       product_name product_category  quantity   price year_month  cost_price\n",
      "0     2017-06-21           30876  GGOEGOAQ012899                            Ballpoint LED Light Pen           Office      1000    2.50    2017-06        0.88\n",
      "1     2017-06-05           29657  GGOEGGOA017399                                           Maze Pen           Office       825    0.79    2017-06        0.37\n",
      "2     2017-06-08           29898  GGOEGGOA017399                                           Maze Pen           Office       825    0.79    2017-06        0.37\n",
      "3     2017-06-12           30174  GGOEGOAC021799                                 Ballpoint Pen Blue           Office       500    0.99    2017-06        0.64\n",
      "4     2017-06-14           30377  GGOEGFKA022299                               Keyboard DOT Sticker           Office       500    1.50    2017-06        0.54\n",
      "...          ...             ...             ...                                                ...              ...       ...     ...        ...         ...\n",
      "13872 2017-04-30           26837  GGOEGHPA002910                                 Google Trucker Hat         Headgear         1   17.59    2017-04        7.83\n",
      "13873 2017-04-30           26837  GGOEGHPB071610                                   Google Twill Cap          Apparel         1    8.79    2017-04        3.93\n",
      "13874 2017-04-30           26837  GGOEWFKA083199                    Waze Mood Original Window Decal             Waze         1    1.59    2017-04        0.74\n",
      "13875 2017-04-30           26837  GGOEWFKA083299                       Waze Mood Ninja Window Decal             Waze         1    1.59    2017-04        0.70\n",
      "13876 2017-04-30           26838  GGOENEBJ079499  Nestå¨ Learning Thermostat 3rd Gen-USA - Stain...         Nest-USA         1  149.00    2017-04       59.65\n",
      "\n",
      "[13877 rows x 9 columns]\n"
     ]
    }
   ],
   "source": [
    "transactions_df = pd.merge(transactions_df, cost_df, how='left', on=['year_month', 'sku'])\n",
    "print(transactions_df)"
   ]
  },
  {
   "cell_type": "markdown",
   "metadata": {},
   "source": [
    "## Get Top 20 Product Categories with the highest profit margin"
   ]
  },
  {
   "cell_type": "markdown",
   "metadata": {},
   "source": [
    "# Group then calculate profit margin"
   ]
  },
  {
   "cell_type": "code",
   "execution_count": 34,
   "metadata": {},
   "outputs": [
    {
     "name": "stdout",
     "output_type": "stream",
     "text": [
      "                      product_category  avg_profit_margin  quantity\n",
      "0                               Google              60.02       175\n",
      "1                              Bottles              58.76       613\n",
      "2                           Gift Cards              57.98        77\n",
      "3                                  Fun              57.74       433\n",
      "4                          Nest-Canada              54.99       135\n",
      "5                             Headgear              54.65       940\n",
      "6                               Office              52.65     29105\n",
      "7                             Nest-USA              52.63      5258\n",
      "8                            More Bags              52.02        37\n",
      "9                                 Waze              51.95       383\n",
      "10                           Lifestyle              51.73      6884\n",
      "11                             Apparel              51.48      9416\n",
      "12                           Backpacks              50.98        44\n",
      "13  ${productitem.product.origCatName}              50.91       990\n",
      "14                Notebooks & Journals              50.65      2936\n",
      "15                             Android              50.08        15\n",
      "16                         Electronics              49.98      2143\n",
      "17                           Drinkware              47.76      8449\n",
      "18                         Accessories              45.83        17\n",
      "19                                Bags              42.99      4216\n"
     ]
    },
    {
     "name": "stderr",
     "output_type": "stream",
     "text": [
      "<ipython-input-34-8a00ff652665>:4: FutureWarning: The pandas.np module is deprecated and will be removed from pandas in a future version. Import numpy directly instead\n",
      "  'price': pd.np.mean,\n",
      "<ipython-input-34-8a00ff652665>:5: FutureWarning: The pandas.np module is deprecated and will be removed from pandas in a future version. Import numpy directly instead\n",
      "  'cost_price': pd.np.mean,\n",
      "<ipython-input-34-8a00ff652665>:6: FutureWarning: The pandas.np module is deprecated and will be removed from pandas in a future version. Import numpy directly instead\n",
      "  'quantity': pd.np.sum\n"
     ]
    }
   ],
   "source": [
    "# group data by product_category\n",
    "category_profit_margin_df = transactions_df.groupby(['product_category'], as_index=False).agg(\n",
    "    {\n",
    "        'price': pd.np.mean,\n",
    "        'cost_price': pd.np.mean,\n",
    "        'quantity': pd.np.sum\n",
    "    }\n",
    ")\n",
    "\n",
    "# calculate average profit margins\n",
    "category_profit_margin_df['avg_profit_margin'] = category_profit_margin_df.apply(lambda row: round((row['price'] - row['cost_price']) / row['price'] * 100, 2), axis=1)\n",
    "\n",
    "# filter for only the necessary columns\n",
    "category_profit_margin_df = category_profit_margin_df[['product_category', 'avg_profit_margin', 'quantity']]\n",
    "\n",
    "# sort data by avg_profit_margin descending and product_name ascending\n",
    "category_profit_margin_df = category_profit_margin_df.sort_values('avg_profit_margin', ascending=False)\n",
    "\n",
    "# reset index for cosmetic reasons\n",
    "category_profit_margin_df = category_profit_margin_df.reset_index(drop=True)\n",
    "\n",
    "# filter only the top 20 results\n",
    "category_profit_margin_df = category_profit_margin_df.head(20)\n",
    "\n",
    "# write result as csv\n",
    "write_path = os.path.join(WRITE_DIR, 'category_profit_margin_1.csv')\n",
    "category_profit_margin_df.to_csv(write_path, index=False)\n",
    "\n",
    "print(category_profit_margin_df)"
   ]
  },
  {
   "cell_type": "markdown",
   "metadata": {},
   "source": [
    "## Get Top 20 SKUs with the highest profit margin\n",
    "### Validate data\n",
    "- Confirm the assumption that each SKU has only one product name\n",
    "- If not, when grouping, data would be incorrect"
   ]
  },
  {
   "cell_type": "code",
   "execution_count": 35,
   "metadata": {},
   "outputs": [],
   "source": [
    "# get df of unique combinations of sku and product_name\n",
    "check_df = transactions_df[['sku', 'product_name']].drop_duplicates()\n",
    "\n",
    "# count the number of product_name associated with each sku\n",
    "check_df = check_df.groupby('sku', as_index=False).agg({'product_name': 'count'})\n",
    "\n",
    "# halt programme if any discrepancies are found\n",
    "assert check_df[check_df['product_name'] > 1].empty, 'SKUs with same id but different product names found'"
   ]
  },
  {
   "cell_type": "code",
   "execution_count": 46,
   "metadata": {
    "scrolled": true
   },
   "outputs": [
    {
     "name": "stdout",
     "output_type": "stream",
     "text": [
      "               sku                                       product_name  avg_profit_margin  quantity\n",
      "0   GGOEGFSR022099                                   Google Kick Ball              60.21      1519\n",
      "1   GGOEGHGH019699                                  Google Sunglasses              60.09      1480\n",
      "2   GGOEGDHC074099           Google 17oz Stainless Steel Sport Bottle              60.01       660\n",
      "3   GGOEGHGR019499                                  Google Sunglasses              60.01       670\n",
      "4   GGOEGOLC014299                       Google Metallic Notebook Set              60.00      1295\n",
      "5   GGOENEBJ079499  Nestå¨ Learning Thermostat 3rd Gen-USA - Stain...              59.99      1003\n",
      "6   GGOEGBJC019999                           Collapsible Shopping Bag              59.97       988\n",
      "7   GGOEGFKA022299                               Keyboard DOT Sticker              59.67       805\n",
      "8   GGOEGOCC017599                         Recycled Paper Journal Set              57.72       973\n",
      "9   GGOEGFKQ020399              Google Laptop and Cell Phone Stickers              57.48      1597\n",
      "10  GGOEYFKQ020699                              YouTube Custom Decals              57.40      1582\n",
      "11  GGOEGOCT019199                         Red Spiral Google Notebook              55.75       813\n",
      "12  GGOENEBB078899            Nestå¨ Cam Indoor Security Camera - USA              55.58      1152\n",
      "13  GGOEGOCC077999                     Google Spiral Journal with Pen              55.50       776\n",
      "14  GGOEGOAR021999                            Color Changing Grip Pen              54.88      1010\n",
      "15  GGOEGDHC018299                          Google 22 oz Water Bottle              53.40      2714\n",
      "16  GGOEGODR017799                                 Recycled Mouse Pad              52.91       995\n",
      "17  GGOEGOCR017899                         Recycled Paper Journal Set              52.35      1223\n",
      "18  GGOEGOAQ012899                            Ballpoint LED Light Pen              52.27      1403\n",
      "19  GGOEYOLR018699                 YouTube Leatherette Notebook Combo              51.14       634\n"
     ]
    }
   ],
   "source": [
    "# group data by sku as well as product_name\n",
    "sku_profit_margin_df = transactions_df.groupby(['sku', 'product_name'], as_index=False).agg(\n",
    "    {\n",
    "        'price': pd.np.mean,\n",
    "        'cost_price': pd.np.mean,\n",
    "        'quantity': pd.np.sum\n",
    "    }\n",
    ")\n",
    "\n",
    "# calculate average profit margins\n",
    "sku_profit_margin_df['avg_profit_margin'] = sku_profit_margin_df.apply(lambda row: round((row['price'] - row['cost_price']) / row['price'] * 100, 2), axis=1)\n",
    "\n",
    "# filter for only the necessary columns\n",
    "sku_profit_margin_df = sku_profit_margin_df[['sku', 'product_name', 'avg_profit_margin', 'quantity']]\n",
    "\n",
    "# sort data by avg_profit_margin descending and product_name ascending\n",
    "sku_profit_margin_df = sku_profit_margin_df.sort_values(['avg_profit_margin', 'product_name'], ascending=[False, True])\n",
    "\n",
    "# set minimum requirement for quantity\n",
    "sku_profit_margin_df = sku_profit_margin_df[sku_profit_margin_df['quantity'] >= 500]\n",
    "\n",
    "# reset index for cosmetic reasons\n",
    "sku_profit_margin_df = sku_profit_margin_df.reset_index(drop=True)\n",
    "\n",
    "# filter only the top 20 results\n",
    "sku_profit_margin_df = sku_profit_margin_df.head(20)\n",
    "\n",
    "# write result as csv\n",
    "write_path = os.path.join(WRITE_DIR, 'sku_profit_margin.csv')\n",
    "sku_profit_margin_df.to_csv(write_path, index=False)\n",
    "\n",
    "print(sku_profit_margin_df)"
   ]
  },
  {
   "cell_type": "code",
   "execution_count": null,
   "metadata": {},
   "outputs": [],
   "source": []
  }
 ],
 "metadata": {
  "kernelspec": {
   "display_name": "Python 3",
   "language": "python",
   "name": "python3"
  },
  "language_info": {
   "codemirror_mode": {
    "name": "ipython",
    "version": 3
   },
   "file_extension": ".py",
   "mimetype": "text/x-python",
   "name": "python",
   "nbconvert_exporter": "python",
   "pygments_lexer": "ipython3",
   "version": "3.8.3"
  }
 },
 "nbformat": 4,
 "nbformat_minor": 2
}
